{
 "cells": [
  {
   "cell_type": "code",
   "execution_count": 8,
   "id": "eb5cb6f9-be22-4745-83fb-49e686e637a7",
   "metadata": {},
   "outputs": [
    {
     "name": "stdout",
     "output_type": "stream",
     "text": [
      "It's warm\n",
      "Done\n"
     ]
    }
   ],
   "source": [
    "temperature=31\n",
    "if temperature > 30:\n",
    "    print (\"It's warm\")\n",
    "elif temperature > 20:\n",
    "    print (\"It's nice\")\n",
    "elif temperature > 10: \n",
    "    print (\"It's getting cold\")\n",
    "else:\n",
    "    print (\"It's freezing\")\n",
    "print (\"Done\")"
   ]
  },
  {
   "cell_type": "code",
   "execution_count": null,
   "id": "ef1dd729-2fed-41f9-9730-a55c43e9db7d",
   "metadata": {},
   "outputs": [],
   "source": []
  }
 ],
 "metadata": {
  "kernelspec": {
   "display_name": "Python 3 (ipykernel)",
   "language": "python",
   "name": "python3"
  },
  "language_info": {
   "codemirror_mode": {
    "name": "ipython",
    "version": 3
   },
   "file_extension": ".py",
   "mimetype": "text/x-python",
   "name": "python",
   "nbconvert_exporter": "python",
   "pygments_lexer": "ipython3",
   "version": "3.11.7"
  }
 },
 "nbformat": 4,
 "nbformat_minor": 5
}

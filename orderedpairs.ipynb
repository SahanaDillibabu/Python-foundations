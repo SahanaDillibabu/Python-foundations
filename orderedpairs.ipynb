{
 "cells": [
  {
   "cell_type": "code",
   "execution_count": 1,
   "id": "eaa3125a-e5c1-47b9-9aa5-3cec2bbade63",
   "metadata": {},
   "outputs": [
    {
     "name": "stdout",
     "output_type": "stream",
     "text": [
      "( 1 , 1 )\n",
      "( 1 , 2 )\n",
      "( 1 , 3 )\n",
      "( 1 , 4 )\n",
      "( 1 , 5 )\n",
      "( 2 , 1 )\n",
      "( 2 , 2 )\n",
      "( 2 , 3 )\n",
      "( 2 , 4 )\n",
      "( 2 , 5 )\n",
      "( 3 , 1 )\n",
      "( 3 , 2 )\n",
      "( 3 , 3 )\n",
      "( 3 , 4 )\n",
      "( 3 , 5 )\n",
      "( 4 , 1 )\n",
      "( 4 , 2 )\n",
      "( 4 , 3 )\n",
      "( 4 , 4 )\n",
      "( 4 , 5 )\n",
      "( 5 , 1 )\n",
      "( 5 , 2 )\n",
      "( 5 , 3 )\n",
      "( 5 , 4 )\n",
      "( 5 , 5 )\n"
     ]
    }
   ],
   "source": [
    "for x in [1,2,3,4,5]:\n",
    "    for y in [1,2,3,4,5]:\n",
    "        print (\"(\",x,\",\",y,\")\")"
   ]
  },
  {
   "cell_type": "code",
   "execution_count": null,
   "id": "f1319822-a8b0-4114-ba64-bc558677d437",
   "metadata": {},
   "outputs": [],
   "source": []
  }
 ],
 "metadata": {
  "kernelspec": {
   "display_name": "Python 3 (ipykernel)",
   "language": "python",
   "name": "python3"
  },
  "language_info": {
   "codemirror_mode": {
    "name": "ipython",
    "version": 3
   },
   "file_extension": ".py",
   "mimetype": "text/x-python",
   "name": "python",
   "nbconvert_exporter": "python",
   "pygments_lexer": "ipython3",
   "version": "3.11.7"
  }
 },
 "nbformat": 4,
 "nbformat_minor": 5
}

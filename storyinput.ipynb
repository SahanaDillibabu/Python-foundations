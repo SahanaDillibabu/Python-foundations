{
 "cells": [
  {
   "cell_type": "code",
   "execution_count": 1,
   "id": "515cb70f-fbda-4dbf-9d6f-22a8f67cf4c7",
   "metadata": {},
   "outputs": [
    {
     "name": "stdin",
     "output_type": "stream",
     "text": [
      "Enter your name:  NAME\n",
      "Enter your city:  CITY\n",
      "Enter your age:  AGE\n",
      "Enter your college:  COLLEGE\n",
      "Enter your profession PROFESSION\n",
      "Enter your pet name:  PETNAME\n"
     ]
    },
    {
     "name": "stdout",
     "output_type": "stream",
     "text": [
      "There once was a person named NAME who lived in CITY .At the age of AGE NAME went to college at COLLEGE . NAME graduated and went to work as a PROFESSION . Then, NAME adopted an animal named PETNAME .They both lived happily ever after!\n"
     ]
    }
   ],
   "source": [
    "NAME=input(\"Enter your name: \")\n",
    "CITY=input(\"Enter your city: \") \n",
    "AGE=input (\"Enter your age: \")\n",
    "COLLEGE=input (\"Enter your college: \")\n",
    "PROFESSION=input (\"Enter your profession\")\n",
    "PETNAME=input (\"Enter your pet name: \")\n",
    "print (\"There once was a person named\", NAME ,\"who lived in\", CITY,\".At the age of\", AGE, NAME, \"went to college at\", COLLEGE,\".\", NAME, \"graduated and went to work as a\", PROFESSION,\".\", \"Then,\", NAME, \"adopted an animal named\", PETNAME,\".They both lived happily ever after!\")"
   ]
  },
  {
   "cell_type": "code",
   "execution_count": null,
   "id": "a5bbf47f-2e2c-4261-9528-7115cf60176d",
   "metadata": {},
   "outputs": [],
   "source": []
  }
 ],
 "metadata": {
  "kernelspec": {
   "display_name": "Python 3 (ipykernel)",
   "language": "python",
   "name": "python3"
  },
  "language_info": {
   "codemirror_mode": {
    "name": "ipython",
    "version": 3
   },
   "file_extension": ".py",
   "mimetype": "text/x-python",
   "name": "python",
   "nbconvert_exporter": "python",
   "pygments_lexer": "ipython3",
   "version": "3.11.7"
  }
 },
 "nbformat": 4,
 "nbformat_minor": 5
}

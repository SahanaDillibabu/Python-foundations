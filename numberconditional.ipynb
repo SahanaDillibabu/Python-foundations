{
 "cells": [
  {
   "cell_type": "code",
   "execution_count": 4,
   "id": "f46fafe9-c0bf-457f-b3ec-3bee875c696b",
   "metadata": {},
   "outputs": [
    {
     "name": "stdin",
     "output_type": "stream",
     "text": [
      "Enter your number: 25\n"
     ]
    },
    {
     "name": "stdout",
     "output_type": "stream",
     "text": [
      "two digits\n"
     ]
    }
   ],
   "source": [
    "number= int (input(\"Enter your number:\"))\n",
    "if (number>=10 and number<=99 ):\n",
    "    print(\"two digits\")\n",
    "else:\n",
    "    print(\"not two digits\")"
   ]
  },
  {
   "cell_type": "code",
   "execution_count": 6,
   "id": "def601a0-c1c5-4ff2-9576-a19dc578ac02",
   "metadata": {},
   "outputs": [
    {
     "name": "stdin",
     "output_type": "stream",
     "text": [
      "Enter your number: 100\n"
     ]
    },
    {
     "name": "stdout",
     "output_type": "stream",
     "text": [
      "not two digits\n"
     ]
    }
   ],
   "source": [
    "number= int (input(\"Enter your number:\"))\n",
    "if (number>=10 and number<=99 ):\n",
    "    print(\"two digits\")\n",
    "else:\n",
    "    print(\"not two digits\")"
   ]
  },
  {
   "cell_type": "code",
   "execution_count": null,
   "id": "2aaeab16-eddd-4ee2-a6ec-447df3c57abc",
   "metadata": {},
   "outputs": [],
   "source": []
  }
 ],
 "metadata": {
  "kernelspec": {
   "display_name": "Python 3 (ipykernel)",
   "language": "python",
   "name": "python3"
  },
  "language_info": {
   "codemirror_mode": {
    "name": "ipython",
    "version": 3
   },
   "file_extension": ".py",
   "mimetype": "text/x-python",
   "name": "python",
   "nbconvert_exporter": "python",
   "pygments_lexer": "ipython3",
   "version": "3.11.7"
  }
 },
 "nbformat": 4,
 "nbformat_minor": 5
}

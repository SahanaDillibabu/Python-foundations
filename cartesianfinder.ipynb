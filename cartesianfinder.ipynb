{
 "cells": [
  {
   "cell_type": "code",
   "execution_count": 1,
   "id": "0e057852-4442-49c2-a5b7-022e315d8a82",
   "metadata": {},
   "outputs": [
    {
     "name": "stdin",
     "output_type": "stream",
     "text": [
      "Enter x coordinate: 1\n",
      "Enter y coordinate: 4\n"
     ]
    },
    {
     "name": "stdout",
     "output_type": "stream",
     "text": [
      "The point lies in the 1st Quadrant.\n"
     ]
    }
   ],
   "source": [
    "xcoord = int(input(\"Enter x coordinate:\"))\n",
    "ycoord = int(input(\"Enter y coordinate:\"))\n",
    "\n",
    "if xcoord > 0 and ycoord > 0:\n",
    "    print(\"The point lies in the 1st Quadrant.\")\n",
    "elif xcoord < 0 and ycoord > 0:\n",
    "    print(\"The point lies in the 2nd Quadrant.\")\n",
    "elif xcoord < 0 and ycoord < 0:\n",
    "    print(\"The point lies in the 3rd Quadrant.\")\n",
    "elif xcoord > 0 and ycoord < 0:\n",
    "    print(\"The point lies in the 4th Quadrant.\")"
   ]
  },
  {
   "cell_type": "code",
   "execution_count": null,
   "id": "575194d1-090a-49f5-95ee-1623dc6fad23",
   "metadata": {},
   "outputs": [],
   "source": []
  }
 ],
 "metadata": {
  "kernelspec": {
   "display_name": "Python 3 (ipykernel)",
   "language": "python",
   "name": "python3"
  },
  "language_info": {
   "codemirror_mode": {
    "name": "ipython",
    "version": 3
   },
   "file_extension": ".py",
   "mimetype": "text/x-python",
   "name": "python",
   "nbconvert_exporter": "python",
   "pygments_lexer": "ipython3",
   "version": "3.11.7"
  }
 },
 "nbformat": 4,
 "nbformat_minor": 5
}

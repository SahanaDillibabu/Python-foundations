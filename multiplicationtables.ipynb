{
 "cells": [
  {
   "cell_type": "code",
   "execution_count": 9,
   "id": "1174698a-8b31-404c-a217-c99ee804fa72",
   "metadata": {},
   "outputs": [
    {
     "name": "stdin",
     "output_type": "stream",
     "text": [
      "Please enter the number: 5\n"
     ]
    },
    {
     "name": "stdout",
     "output_type": "stream",
     "text": [
      "5  x  1  =  5\n",
      "5  x  2  =  10\n",
      "5  x  3  =  15\n",
      "5  x  4  =  20\n",
      "5  x  5  =  25\n",
      "5  x  6  =  30\n",
      "5  x  7  =  35\n",
      "5  x  8  =  40\n",
      "5  x  9  =  45\n",
      "5  x  10  =  50\n",
      "5  x  11  =  55\n",
      "5  x  12  =  60\n",
      "5  x  13  =  65\n",
      "5  x  14  =  70\n",
      "5  x  15  =  75\n",
      "5  x  16  =  80\n",
      "5  x  17  =  85\n",
      "5  x  18  =  90\n",
      "5  x  19  =  95\n",
      "5  x  20  =  100\n"
     ]
    }
   ],
   "source": [
    "num = int(input(\"Please enter the number:\"))\n",
    "for i in range (1,21):\n",
    "    result = num * i\n",
    "    print (num ,\" x \",i ,\" = \", result)"
   ]
  },
  {
   "cell_type": "code",
   "execution_count": null,
   "id": "cdb0cfe6-f808-4d92-9e29-ec0312fd6237",
   "metadata": {},
   "outputs": [],
   "source": []
  }
 ],
 "metadata": {
  "kernelspec": {
   "display_name": "Python 3 (ipykernel)",
   "language": "python",
   "name": "python3"
  },
  "language_info": {
   "codemirror_mode": {
    "name": "ipython",
    "version": 3
   },
   "file_extension": ".py",
   "mimetype": "text/x-python",
   "name": "python",
   "nbconvert_exporter": "python",
   "pygments_lexer": "ipython3",
   "version": "3.11.7"
  }
 },
 "nbformat": 4,
 "nbformat_minor": 5
}

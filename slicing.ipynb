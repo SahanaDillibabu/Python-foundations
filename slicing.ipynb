{
 "cells": [
  {
   "cell_type": "code",
   "execution_count": 1,
   "id": "4d7065a7-d2a2-40e8-a687-53bb22540f9a",
   "metadata": {},
   "outputs": [
    {
     "name": "stdout",
     "output_type": "stream",
     "text": [
      "18\n",
      "P\n",
      "g\n",
      "Pyt\n",
      "P\n"
     ]
    }
   ],
   "source": [
    "course=\"Python Programming\"\n",
    "print(len(course))\n",
    "print(course[0])\n",
    "print (course[-1])\n",
    "print(course[0:3])\n",
    "print (course[0:1])"
   ]
  },
  {
   "cell_type": "code",
   "execution_count": null,
   "id": "d4f22ea0-3b7a-496e-af66-e57d8cf0a364",
   "metadata": {},
   "outputs": [],
   "source": []
  }
 ],
 "metadata": {
  "kernelspec": {
   "display_name": "Python 3 (ipykernel)",
   "language": "python",
   "name": "python3"
  },
  "language_info": {
   "codemirror_mode": {
    "name": "ipython",
    "version": 3
   },
   "file_extension": ".py",
   "mimetype": "text/x-python",
   "name": "python",
   "nbconvert_exporter": "python",
   "pygments_lexer": "ipython3",
   "version": "3.11.7"
  }
 },
 "nbformat": 4,
 "nbformat_minor": 5
}

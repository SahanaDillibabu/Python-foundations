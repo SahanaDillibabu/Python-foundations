{
 "cells": [
  {
   "cell_type": "code",
   "execution_count": 2,
   "id": "64b79c5c-2e39-4ddc-b912-5bf17afab2d4",
   "metadata": {},
   "outputs": [
    {
     "name": "stdout",
     "output_type": "stream",
     "text": [
      "PYTHON PROGRAMMING\n"
     ]
    }
   ],
   "source": [
    "course=\"   Python Programming\"\n",
    "print(course.upper())"
   ]
  },
  {
   "cell_type": "code",
   "execution_count": 8,
   "id": "ce380eb2-e67d-4de6-8997-a048136c5fbc",
   "metadata": {},
   "outputs": [
    {
     "name": "stdout",
     "output_type": "stream",
     "text": [
      "python programming\n"
     ]
    }
   ],
   "source": [
    "print(course.lower())"
   ]
  },
  {
   "cell_type": "code",
   "execution_count": 10,
   "id": "28ca4b22-a8d5-4a11-888a-50d58fdd8194",
   "metadata": {},
   "outputs": [
    {
     "name": "stdout",
     "output_type": "stream",
     "text": [
      "Python Programming\n"
     ]
    }
   ],
   "source": [
    "print(course.title())"
   ]
  },
  {
   "cell_type": "code",
   "execution_count": 12,
   "id": "69673fd3-7021-4d42-8453-a6e19728d31d",
   "metadata": {},
   "outputs": [
    {
     "name": "stdout",
     "output_type": "stream",
     "text": [
      "Python Programming\n"
     ]
    }
   ],
   "source": [
    "print(course.strip())"
   ]
  },
  {
   "cell_type": "code",
   "execution_count": 16,
   "id": "9cc84a9f-b2c1-4a17-b397-dc13d860f9cd",
   "metadata": {},
   "outputs": [
    {
     "name": "stdout",
     "output_type": "stream",
     "text": [
      "-1\n"
     ]
    }
   ],
   "source": [
    "print(course.find(\"pro\"))"
   ]
  },
  {
   "cell_type": "code",
   "execution_count": 24,
   "id": "9c27f826-d62b-4d6e-8f3e-88930b26fee6",
   "metadata": {},
   "outputs": [
    {
     "name": "stdout",
     "output_type": "stream",
     "text": [
      "jython jrogramming\n"
     ]
    }
   ],
   "source": [
    "print(course.replace(\"P\",\"j\"))"
   ]
  },
  {
   "cell_type": "code",
   "execution_count": 28,
   "id": "b3613059-141b-4543-8bea-c1a74ee6fb36",
   "metadata": {},
   "outputs": [
    {
     "name": "stdout",
     "output_type": "stream",
     "text": [
      "True\n"
     ]
    }
   ],
   "source": [
    "print(\"Pro\" in course)"
   ]
  },
  {
   "cell_type": "code",
   "execution_count": 30,
   "id": "2e596101-d84a-407a-ba3c-d4d7068a5d64",
   "metadata": {},
   "outputs": [
    {
     "name": "stdout",
     "output_type": "stream",
     "text": [
      "True\n"
     ]
    }
   ],
   "source": [
    "print(\"swift\" not in course)"
   ]
  },
  {
   "cell_type": "code",
   "execution_count": null,
   "id": "8229ac1f-c3bb-4441-a3bf-acc524e2acf2",
   "metadata": {},
   "outputs": [],
   "source": []
  }
 ],
 "metadata": {
  "kernelspec": {
   "display_name": "Python 3 (ipykernel)",
   "language": "python",
   "name": "python3"
  },
  "language_info": {
   "codemirror_mode": {
    "name": "ipython",
    "version": 3
   },
   "file_extension": ".py",
   "mimetype": "text/x-python",
   "name": "python",
   "nbconvert_exporter": "python",
   "pygments_lexer": "ipython3",
   "version": "3.11.7"
  }
 },
 "nbformat": 4,
 "nbformat_minor": 5
}

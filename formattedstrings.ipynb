{
 "cells": [
  {
   "cell_type": "code",
   "execution_count": 6,
   "id": "b8d485a0-62de-4d0b-ad79-cd987cf09c75",
   "metadata": {},
   "outputs": [
    {
     "name": "stdout",
     "output_type": "stream",
     "text": [
      "Compound word\n"
     ]
    }
   ],
   "source": [
    "first=\"Compound\"\n",
    "last=\"word\"\n",
    "full= first + \" \" + last\n",
    "print(full)\n",
    "    "
   ]
  },
  {
   "cell_type": "code",
   "execution_count": null,
   "id": "4ef65c3d-0836-4195-88ab-09d8c91e6ed5",
   "metadata": {},
   "outputs": [],
   "source": [
    "#formatted strings"
   ]
  },
  {
   "cell_type": "code",
   "execution_count": null,
   "id": "145c2500-003a-4aa2-9c68-ce07feea6b26",
   "metadata": {},
   "outputs": [],
   "source": [
    "full=f\"{first} {last}\""
   ]
  }
 ],
 "metadata": {
  "kernelspec": {
   "display_name": "Python 3 (ipykernel)",
   "language": "python",
   "name": "python3"
  },
  "language_info": {
   "codemirror_mode": {
    "name": "ipython",
    "version": 3
   },
   "file_extension": ".py",
   "mimetype": "text/x-python",
   "name": "python",
   "nbconvert_exporter": "python",
   "pygments_lexer": "ipython3",
   "version": "3.11.7"
  }
 },
 "nbformat": 4,
 "nbformat_minor": 5
}

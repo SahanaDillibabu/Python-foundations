{
 "cells": [
  {
   "cell_type": "code",
   "execution_count": 10,
   "id": "3064f255-269d-45ca-a975-e8d84421e3ed",
   "metadata": {},
   "outputs": [],
   "source": [
    "import math"
   ]
  },
  {
   "cell_type": "code",
   "execution_count": 4,
   "id": "0416e925-8ac9-4b2a-9b5c-994b9d46ca64",
   "metadata": {},
   "outputs": [],
   "source": [
    "x=1 #integers\n",
    "x=1.1 #flows\n",
    "x=1+2j#a+bi\n"
   ]
  },
  {
   "cell_type": "code",
   "execution_count": 6,
   "id": "7f46c32f-18d8-4865-93d0-ab1bfbd9daf0",
   "metadata": {},
   "outputs": [
    {
     "name": "stdout",
     "output_type": "stream",
     "text": [
      "3\n"
     ]
    }
   ],
   "source": [
    "print(round(2.9))"
   ]
  },
  {
   "cell_type": "code",
   "execution_count": 8,
   "id": "253742de-5c8d-4482-978c-613e27496ab5",
   "metadata": {},
   "outputs": [
    {
     "name": "stdout",
     "output_type": "stream",
     "text": [
      "2.9\n"
     ]
    }
   ],
   "source": [
    "print(abs(2.9))"
   ]
  },
  {
   "cell_type": "code",
   "execution_count": 14,
   "id": "989e44e1-30aa-4d53-b1e7-450fa5a9ece9",
   "metadata": {},
   "outputs": [
    {
     "name": "stdout",
     "output_type": "stream",
     "text": [
      "3\n"
     ]
    }
   ],
   "source": [
    "print(math.ceil(2.2))"
   ]
  },
  {
   "cell_type": "code",
   "execution_count": null,
   "id": "ce58d384-affd-4e8a-86fe-e5e2f1642330",
   "metadata": {},
   "outputs": [],
   "source": []
  }
 ],
 "metadata": {
  "kernelspec": {
   "display_name": "Python 3 (ipykernel)",
   "language": "python",
   "name": "python3"
  },
  "language_info": {
   "codemirror_mode": {
    "name": "ipython",
    "version": 3
   },
   "file_extension": ".py",
   "mimetype": "text/x-python",
   "name": "python",
   "nbconvert_exporter": "python",
   "pygments_lexer": "ipython3",
   "version": "3.11.7"
  }
 },
 "nbformat": 4,
 "nbformat_minor": 5
}

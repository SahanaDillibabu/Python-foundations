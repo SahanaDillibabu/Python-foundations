{
 "cells": [
  {
   "cell_type": "code",
   "execution_count": 2,
   "id": "3bcee1b7-469b-4b20-a74f-a250e34d411a",
   "metadata": {},
   "outputs": [
    {
     "name": "stdout",
     "output_type": "stream",
     "text": [
      "Eligible\n"
     ]
    }
   ],
   "source": [
    "high_income = False\n",
    "good_credit = True\n",
    "student = False\n",
    "\n",
    "if (high_income or good_credit) and not student:\n",
    "    print(\"Eligible\")\n",
    "else:\n",
    "    print(\"Not eligible\")\n"
   ]
  },
  {
   "cell_type": "code",
   "execution_count": null,
   "id": "4e812739-ee5c-47c6-beb6-13e56c1a48a8",
   "metadata": {},
   "outputs": [],
   "source": []
  }
 ],
 "metadata": {
  "kernelspec": {
   "display_name": "Python 3 (ipykernel)",
   "language": "python",
   "name": "python3"
  },
  "language_info": {
   "codemirror_mode": {
    "name": "ipython",
    "version": 3
   },
   "file_extension": ".py",
   "mimetype": "text/x-python",
   "name": "python",
   "nbconvert_exporter": "python",
   "pygments_lexer": "ipython3",
   "version": "3.11.7"
  }
 },
 "nbformat": 4,
 "nbformat_minor": 5
}

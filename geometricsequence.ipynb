{
 "cells": [
  {
   "cell_type": "code",
   "execution_count": 1,
   "id": "22cd9564-c427-4440-8b62-88c16d1dbac6",
   "metadata": {},
   "outputs": [
    {
     "name": "stdout",
     "output_type": "stream",
     "text": [
      "1\n",
      "3\n",
      "9\n",
      "27\n",
      "81\n",
      "243\n",
      "729\n"
     ]
    }
   ],
   "source": [
    "a = 1\n",
    "while a < 1000:\n",
    "    print (a)\n",
    "    a = a * 3"
   ]
  },
  {
   "cell_type": "code",
   "execution_count": null,
   "id": "e55260dc-3839-4a8e-99c7-59befce64586",
   "metadata": {},
   "outputs": [],
   "source": []
  }
 ],
 "metadata": {
  "kernelspec": {
   "display_name": "Python 3 (ipykernel)",
   "language": "python",
   "name": "python3"
  },
  "language_info": {
   "codemirror_mode": {
    "name": "ipython",
    "version": 3
   },
   "file_extension": ".py",
   "mimetype": "text/x-python",
   "name": "python",
   "nbconvert_exporter": "python",
   "pygments_lexer": "ipython3",
   "version": "3.11.7"
  }
 },
 "nbformat": 4,
 "nbformat_minor": 5
}

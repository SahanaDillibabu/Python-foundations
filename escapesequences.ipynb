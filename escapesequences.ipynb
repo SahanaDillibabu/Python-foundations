{
 "cells": [
  {
   "cell_type": "code",
   "execution_count": 10,
   "id": "d11e09b1-df2b-444b-ba23-49b5ed995725",
   "metadata": {},
   "outputs": [
    {
     "name": "stdout",
     "output_type": "stream",
     "text": [
      "Python \"Programming\n"
     ]
    }
   ],
   "source": [
    "course= \"Python \\\"Programming\"\n",
    "print(course)"
   ]
  },
  {
   "cell_type": "code",
   "execution_count": null,
   "id": "6bbebe7b-39da-4dc5-b8be-2f0ddfcc3f0d",
   "metadata": {},
   "outputs": [],
   "source": [
    "#hash signs indicate comments"
   ]
  },
  {
   "cell_type": "code",
   "execution_count": 14,
   "id": "dc2f6ffb-e260-44f2-8ac9-bb857a912053",
   "metadata": {},
   "outputs": [],
   "source": [
    "course= \"Python \\\"Programming\"\n",
    "print(cou"
   ]
  },
  {
   "cell_type": "code",
   "execution_count": null,
   "id": "e69dc09f-c970-44b4-9903-1b5cec9281d4",
   "metadata": {},
   "outputs": [],
   "source": []
  }
 ],
 "metadata": {
  "kernelspec": {
   "display_name": "Python 3 (ipykernel)",
   "language": "python",
   "name": "python3"
  },
  "language_info": {
   "codemirror_mode": {
    "name": "ipython",
    "version": 3
   },
   "file_extension": ".py",
   "mimetype": "text/x-python",
   "name": "python",
   "nbconvert_exporter": "python",
   "pygments_lexer": "ipython3",
   "version": "3.11.7"
  }
 },
 "nbformat": 4,
 "nbformat_minor": 5
}

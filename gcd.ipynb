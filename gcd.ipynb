{
 "cells": [
  {
   "cell_type": "markdown",
   "id": "e58e5bd6-7ad8-4053-abe0-d8775d94f2ab",
   "metadata": {},
   "source": [
    "##GCD calculator\n",
    "\n",
    "Initialize GCD = 1\r\n",
    "Run a loop in the iteration of (i) between [1, min(num1, num2)]\r\n",
    "Note down the highest number that divides both num1 & num2\r\n",
    "If i satisfies (num1 % i == 0 and num2 % i == 0) then new value of GCD is i\r\n",
    "Print value of GCD"
   ]
  },
  {
   "cell_type": "code",
   "execution_count": 1,
   "id": "587ec12c-ea82-4ed5-91c2-163b885dc1e6",
   "metadata": {},
   "outputs": [
    {
     "name": "stdin",
     "output_type": "stream",
     "text": [
      "Enter a number for a; 76\n",
      "Enter a number for b; 52\n"
     ]
    },
    {
     "name": "stdout",
     "output_type": "stream",
     "text": [
      "The GCD of the two values is 4\n"
     ]
    }
   ],
   "source": [
    "from builtins import min\n",
    "a=int(input(\"Enter a number for a;\"))\n",
    "b=int(input(\"Enter a number for b;\"))\n",
    "i =1;gcd=0;\n",
    "x=min(a,b)\n",
    "while (i<=x):\n",
    "    if (a % i ==0 and b % i ==0):\n",
    "        \n",
    "        gcd=i;\n",
    "    i=i+1\n",
    "\n",
    "print (\"The GCD of the two values is\",gcd)"
   ]
  },
  {
   "cell_type": "markdown",
   "id": "984bd1a0-cbd4-49d2-9650-84a27907c02c",
   "metadata": {},
   "source": [
    "Algorithm to find GCD of two numbers using Repeated Subtraction\r\n",
    "\r\n",
    "Run a while loop until num1 is not equal to num2\r\n",
    "If num1>num2 then num1 = num1 – num2\r\n",
    "Else num2 = num2 – num1\r\n",
    "After the loop ends both num1 & num2 stores GCD\r\n"
   ]
  },
  {
   "cell_type": "code",
   "execution_count": 28,
   "id": "e55260dc-3839-4a8e-99c7-59befce64586",
   "metadata": {},
   "outputs": [
    {
     "name": "stdin",
     "output_type": "stream",
     "text": [
      "Enter the first number; 76\n",
      "Enter the second number; 52\n"
     ]
    },
    {
     "name": "stdout",
     "output_type": "stream",
     "text": [
      "the gcd is 4\n"
     ]
    }
   ],
   "source": [
    "num1=int(input(\"Enter the first number;\"))\n",
    "num2=int(input(\"Enter the second number;\"))\n",
    "a=num1\n",
    "b=num2\n",
    "\n",
    "while a!=b:\n",
    "    if a>b:\n",
    "        a-=b\n",
    "    else:\n",
    "        b-=a\n",
    "print (\"the gcd is\",a)"
   ]
  },
  {
   "cell_type": "code",
   "execution_count": 3,
   "id": "869ad88b-0d6f-472f-9983-9a287e7c7150",
   "metadata": {},
   "outputs": [
    {
     "name": "stdin",
     "output_type": "stream",
     "text": [
      "A?; 76\n",
      "B?; 52\n"
     ]
    },
    {
     "name": "stdout",
     "output_type": "stream",
     "text": [
      "GCD is 4\n"
     ]
    }
   ],
   "source": [
    "# Write your code here\n",
    "from builtins import min\n",
    "\n",
    "a= int(input(\"A?;\"))\n",
    "b= int(input(\"B?;\"))\n",
    "i=1;\n",
    "gcd=0;\n",
    "mini= min(a,b)\n",
    "while(i<=mini):\n",
    "  if(a%i==0 and b%i==0):\n",
    "      gcd = i;\n",
    "  i=i+1\n",
    "\n",
    "\n",
    "print(\"GCD is\",gcd)"
   ]
  },
  {
   "cell_type": "code",
   "execution_count": null,
   "id": "cdd917da-5973-4409-8cd1-e034f7ade434",
   "metadata": {},
   "outputs": [],
   "source": []
  }
 ],
 "metadata": {
  "kernelspec": {
   "display_name": "Python 3 (ipykernel)",
   "language": "python",
   "name": "python3"
  },
  "language_info": {
   "codemirror_mode": {
    "name": "ipython",
    "version": 3
   },
   "file_extension": ".py",
   "mimetype": "text/x-python",
   "name": "python",
   "nbconvert_exporter": "python",
   "pygments_lexer": "ipython3",
   "version": "3.11.7"
  }
 },
 "nbformat": 4,
 "nbformat_minor": 5
}

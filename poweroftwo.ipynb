{
 "cells": [
  {
   "cell_type": "code",
   "execution_count": 7,
   "id": "53af0ce8-0e2d-4880-96e9-2efcffed695d",
   "metadata": {},
   "outputs": [
    {
     "name": "stdout",
     "output_type": "stream",
     "text": [
      "The 4 is the power of two nearest to 5\n"
     ]
    }
   ],
   "source": [
    "num=5\n",
    "i=0\n",
    "pwr=2**i\n",
    "lastpower=0\n",
    "while (pwr<num):\n",
    "    lastpower=pwr\n",
    "    pwr=2**i\n",
    "    i+=1\n",
    "diff1=num-lastpower\n",
    "diff2=pwr-num\n",
    "if diff2>=diff1:\n",
    "    pwr=lastpower\n",
    "print(\"The\",pwr,\"is the power of two nearest to\",num)\n",
    "\n"
   ]
  },
  {
   "cell_type": "code",
   "execution_count": null,
   "id": "52be5510-4c19-4ada-b27d-6556d777216d",
   "metadata": {},
   "outputs": [],
   "source": []
  }
 ],
 "metadata": {
  "kernelspec": {
   "display_name": "Python 3 (ipykernel)",
   "language": "python",
   "name": "python3"
  },
  "language_info": {
   "codemirror_mode": {
    "name": "ipython",
    "version": 3
   },
   "file_extension": ".py",
   "mimetype": "text/x-python",
   "name": "python",
   "nbconvert_exporter": "python",
   "pygments_lexer": "ipython3",
   "version": "3.11.7"
  }
 },
 "nbformat": 4,
 "nbformat_minor": 5
}

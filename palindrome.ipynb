{
 "cells": [
  {
   "cell_type": "code",
   "execution_count": 31,
   "id": "92ab4a87-d2b9-4c3f-9c71-1e1d6695219e",
   "metadata": {},
   "outputs": [
    {
     "name": "stdout",
     "output_type": "stream",
     "text": [
      "Not Palindrome\n"
     ]
    }
   ],
   "source": [
    "string = \"doors\"\n",
    "\n",
    "if (string[0] == string[-1] and string[1] == string[-2]):\n",
    "    print (\"Palindrome\")\n",
    "else:\n",
    "    print (\"Not Palindrome\")"
   ]
  },
  {
   "cell_type": "code",
   "execution_count": 33,
   "id": "06f0440b-d54f-4066-81c2-28ca95b48676",
   "metadata": {},
   "outputs": [
    {
     "name": "stdout",
     "output_type": "stream",
     "text": [
      "Palindrome\n"
     ]
    }
   ],
   "source": [
    "string = \"level\"\n",
    "\n",
    "if (string[0] == string[-1] and string[1] == string[-2]):\n",
    "    print (\"Palindrome\")\n",
    "else:\n",
    "    print (\"Not Palindrome\")"
   ]
  },
  {
   "cell_type": "code",
   "execution_count": null,
   "id": "06b55dfa-0d15-42af-9246-b7f32b4fa0c6",
   "metadata": {},
   "outputs": [],
   "source": []
  }
 ],
 "metadata": {
  "kernelspec": {
   "display_name": "Python 3 (ipykernel)",
   "language": "python",
   "name": "python3"
  },
  "language_info": {
   "codemirror_mode": {
    "name": "ipython",
    "version": 3
   },
   "file_extension": ".py",
   "mimetype": "text/x-python",
   "name": "python",
   "nbconvert_exporter": "python",
   "pygments_lexer": "ipython3",
   "version": "3.11.7"
  }
 },
 "nbformat": 4,
 "nbformat_minor": 5
}
